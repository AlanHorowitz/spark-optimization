{
 "cells": [
  {
   "cell_type": "code",
   "execution_count": 1,
   "id": "22d68daa",
   "metadata": {},
   "outputs": [],
   "source": [
    "from pyspark.sql import SparkSession\n",
    "from pyspark.sql.functions import month, count\n",
    "\n",
    "spark = SparkSession.builder.appName('Optimize I').getOrCreate()"
   ]
  },
  {
   "cell_type": "code",
   "execution_count": 2,
   "id": "16a290e9",
   "metadata": {},
   "outputs": [
    {
     "data": {
      "text/html": [
       "\n",
       "        <div>\n",
       "            <p><b>SparkContext</b></p>\n",
       "\n",
       "            <p><a href=\"http://10.0.2.15:4040\">Spark UI</a></p>\n",
       "\n",
       "            <dl>\n",
       "              <dt>Version</dt>\n",
       "                <dd><code>v3.1.2</code></dd>\n",
       "              <dt>Master</dt>\n",
       "                <dd><code>local[*]</code></dd>\n",
       "              <dt>AppName</dt>\n",
       "                <dd><code>Optimize I</code></dd>\n",
       "            </dl>\n",
       "        </div>\n",
       "        "
      ],
      "text/plain": [
       "<SparkContext master=local[*] appName=Optimize I>"
      ]
     },
     "execution_count": 2,
     "metadata": {},
     "output_type": "execute_result"
    }
   ],
   "source": [
    "spark.sparkContext"
   ]
  },
  {
   "cell_type": "code",
   "execution_count": 14,
   "id": "454b69bd",
   "metadata": {},
   "outputs": [],
   "source": [
    "answersDF_1 = spark.read.option('path', 'data/answers').load()\n",
    "questionsDF_1 = spark.read.option('path', 'data/questions').load()"
   ]
  },
  {
   "cell_type": "code",
   "execution_count": 15,
   "id": "94302896",
   "metadata": {},
   "outputs": [],
   "source": [
    "answers_month_1 = answersDF_1.withColumn('month', month('creation_date'))\\\n",
    ".groupBy('question_id', 'month')\\\n",
    ".agg(count('*').alias('cnt'))\n",
    "\n",
    "resultDF_1 = questionsDF_1.join(answers_month_1, 'question_id')\\\n",
    ".select('question_id', 'creation_date', 'title', 'month', 'cnt')\n",
    "\n",
    "resultDF_1 = resultDF_1.orderBy('question_id', 'month')\n",
    "\n"
   ]
  },
  {
   "cell_type": "code",
   "execution_count": 16,
   "id": "034fa73f",
   "metadata": {},
   "outputs": [],
   "source": [
    "out_1 = resultDF_1.collect()"
   ]
  },
  {
   "cell_type": "code",
   "execution_count": 7,
   "id": "1038e964",
   "metadata": {},
   "outputs": [],
   "source": [
    "answersDF_2 = spark.read.option('path', 'data/answers').load()\n",
    "questionsDF_2 = spark.read.option('path', 'data/questions').load()"
   ]
  },
  {
   "cell_type": "code",
   "execution_count": 8,
   "id": "1ea77dd7",
   "metadata": {},
   "outputs": [],
   "source": [
    "answers_month_2 = answersDF_2.withColumn('month', month('creation_date'))\\\n",
    ".groupBy('question_id', 'month')\\\n",
    ".agg(count('*').alias('cnt')).orderBy('question_id', 'month')\n",
    "\n",
    "resultDF_2 = answers_month_2.join(questionsDF_2, 'question_id')\\\n",
    ".select('question_id', 'creation_date', 'title', 'month', 'cnt')\n"
   ]
  },
  {
   "cell_type": "code",
   "execution_count": 11,
   "id": "399392dd",
   "metadata": {},
   "outputs": [],
   "source": [
    "out_2 = resultDF_2.collect()"
   ]
  },
  {
   "cell_type": "code",
   "execution_count": 17,
   "id": "ca58a4c3",
   "metadata": {},
   "outputs": [
    {
     "ename": "TypeError",
     "evalue": "len() takes exactly one argument (2 given)",
     "output_type": "error",
     "traceback": [
      "\u001b[0;31m---------------------------------------------------------------------------\u001b[0m",
      "\u001b[0;31mTypeError\u001b[0m                                 Traceback (most recent call last)",
      "\u001b[0;32m<ipython-input-17-ff5c8fec77d5>\u001b[0m in \u001b[0;36m<module>\u001b[0;34m\u001b[0m\n\u001b[0;32m----> 1\u001b[0;31m \u001b[0mlen\u001b[0m\u001b[0;34m(\u001b[0m\u001b[0mout_2\u001b[0m\u001b[0;34m,\u001b[0m \u001b[0mout_1\u001b[0m\u001b[0;34m)\u001b[0m\u001b[0;34m\u001b[0m\u001b[0;34m\u001b[0m\u001b[0m\n\u001b[0m",
      "\u001b[0;31mTypeError\u001b[0m: len() takes exactly one argument (2 given)"
     ]
    }
   ],
   "source": [
    "len(out_2, out_1)"
   ]
  },
  {
   "cell_type": "code",
   "execution_count": null,
   "id": "36623205",
   "metadata": {},
   "outputs": [],
   "source": []
  }
 ],
 "metadata": {
  "kernelspec": {
   "display_name": "Python 3",
   "language": "python",
   "name": "python3"
  },
  "language_info": {
   "codemirror_mode": {
    "name": "ipython",
    "version": 3
   },
   "file_extension": ".py",
   "mimetype": "text/x-python",
   "name": "python",
   "nbconvert_exporter": "python",
   "pygments_lexer": "ipython3",
   "version": "3.8.5"
  }
 },
 "nbformat": 4,
 "nbformat_minor": 5
}
