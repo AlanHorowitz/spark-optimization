{
 "cells": [
  {
   "cell_type": "code",
   "execution_count": 1,
   "id": "22d68daa",
   "metadata": {},
   "outputs": [
    {
     "name": "stderr",
     "output_type": "stream",
     "text": [
      "21/07/06 14:50:43 WARN Utils: Your hostname, pySpark-VirtualBox resolves to a loopback address: 127.0.1.1; using 10.0.2.15 instead (on interface enp0s3)\n",
      "21/07/06 14:50:43 WARN Utils: Set SPARK_LOCAL_IP if you need to bind to another address\n",
      "WARNING: An illegal reflective access operation has occurred\n",
      "WARNING: Illegal reflective access by org.apache.spark.unsafe.Platform (file:/home/alan/.local/share/virtualenvs/spark-optimization-zkznERBx/lib/python3.8/site-packages/pyspark/jars/spark-unsafe_2.12-3.1.2.jar) to constructor java.nio.DirectByteBuffer(long,int)\n",
      "WARNING: Please consider reporting this to the maintainers of org.apache.spark.unsafe.Platform\n",
      "WARNING: Use --illegal-access=warn to enable warnings of further illegal reflective access operations\n",
      "WARNING: All illegal access operations will be denied in a future release\n",
      "21/07/06 14:50:44 WARN NativeCodeLoader: Unable to load native-hadoop library for your platform... using builtin-java classes where applicable\n",
      "Using Spark's default log4j profile: org/apache/spark/log4j-defaults.properties\n",
      "Setting default log level to \"WARN\".\n",
      "To adjust logging level use sc.setLogLevel(newLevel). For SparkR, use setLogLevel(newLevel).\n"
     ]
    },
    {
     "data": {
      "text/html": [
       "\n",
       "        <div>\n",
       "            <p><b>SparkContext</b></p>\n",
       "\n",
       "            <p><a href=\"http://10.0.2.15:4040\">Spark UI</a></p>\n",
       "\n",
       "            <dl>\n",
       "              <dt>Version</dt>\n",
       "                <dd><code>v3.1.2</code></dd>\n",
       "              <dt>Master</dt>\n",
       "                <dd><code>local[*]</code></dd>\n",
       "              <dt>AppName</dt>\n",
       "                <dd><code>Optimize I</code></dd>\n",
       "            </dl>\n",
       "        </div>\n",
       "        "
      ],
      "text/plain": [
       "<SparkContext master=local[*] appName=Optimize I>"
      ]
     },
     "execution_count": 1,
     "metadata": {},
     "output_type": "execute_result"
    }
   ],
   "source": [
    "from pyspark.sql import SparkSession\n",
    "from pyspark.sql.functions import month, count, col\n",
    "import pyspark.sql.functions as F\n",
    "\n",
    "spark = SparkSession.builder.appName('Optimize I').getOrCreate()\n",
    "\n",
    "spark.sparkContext"
   ]
  },
  {
   "cell_type": "code",
   "execution_count": 37,
   "id": "454b69bd",
   "metadata": {},
   "outputs": [],
   "source": [
    "spark.conf.set('spark.sql.shuffle.partitions', 4)\n",
    "\n",
    "for _ in range(10):\n",
    "    answersDF_1 = spark.read.option('path', 'data/answers').load()\n",
    "    questionsDF_1 = spark.read.option('path', 'data/questions').load()\n",
    "\n",
    "    answers_month_1 = answersDF_1.withColumn('month', month('creation_date'))\\\n",
    "    .groupBy('question_id', 'month')\\\n",
    "    .agg(count('*').alias('cnt'))\n",
    "\n",
    "    resultDF_1 = questionsDF_1.join(answers_month_1, 'question_id')\\\n",
    "    .select('question_id', 'creation_date', 'title', 'month', 'cnt')\n",
    "    \n",
    "    resultDF_1 = resultDF_1.orderBy('question_id', 'month')\n",
    "\n",
    "    out_1 = resultDF_1.collect()"
   ]
  },
  {
   "cell_type": "code",
   "execution_count": 39,
   "id": "edefe808",
   "metadata": {},
   "outputs": [],
   "source": [
    "spark.conf.set('spark.sql.shuffle.partitions', 4)\n",
    "for _ in range(10):\n",
    "    answersDF_2 = spark.read.option('path', 'data/answers').load().select(['question_id', 'creation_date'])\n",
    "    questionsDF_2 = spark.read.option('path', 'data/questions').load()\\\n",
    "        .select(['question_id', 'title', 'creation_date'])\n",
    "\n",
    "    answers_month_2 = answersDF_2.withColumn('month', month('creation_date'))\\\n",
    "    .groupBy('question_id', 'month')\\\n",
    "    .agg(count('*').alias('cnt'))\\\n",
    "    \n",
    "    resultDF_2 = questionsDF_2.join(answers_month_2, 'question_id')\\\n",
    "    .select('question_id', 'creation_date', 'title', 'month', 'cnt')\\\n",
    "    .orderBy('question_id', 'month')\n",
    "\n",
    "    out_2 = resultDF_2.collect()"
   ]
  },
  {
   "cell_type": "code",
   "execution_count": 34,
   "id": "2e87a2bc",
   "metadata": {},
   "outputs": [],
   "source": [
    "# reduce shuffling at expense of parallelism\n",
    "spark.conf.set('spark.sql.shuffle.partitions', 4)\n",
    "\n",
    "\n",
    "# drop unneeded columns on load\n",
    "for _ in range(10):\n",
    "    answersDF_3 = spark.read.option('path', 'data/answers').load()\\\n",
    "        .select(['question_id', 'creation_date'])\n",
    "    questionsDF_3 = spark.read.option('path', 'data/questions').load()\\\n",
    "        .select(['question_id', 'title', 'creation_date'])\n",
    "\n",
    "    q_and_a_joined_3 = questionsDF_3.join(answersDF_3, 'question_id')\\\n",
    "    .select(answersDF_3.question_id, answersDF_3.creation_date, questionsDF_3.title)\n",
    "\n",
    "    resultDF_3 = q_and_a_joined_3.withColumn('month', month('creation_date'))\\\n",
    "    .groupBy('question_id', 'month')\\\n",
    "    .agg(count('*').alias('cnt'),\n",
    "        F.max(col('title')).alias('title'),\n",
    "        F.max(col('creation_date')).alias('creation_date'))\\\n",
    "    .orderBy('question_id', 'month')\\\n",
    "    .select('question_id', 'creation_date', 'title', 'month', 'cnt')\n",
    "\n",
    "    out_3 = resultDF_3.collect()"
   ]
  },
  {
   "cell_type": "code",
   "execution_count": 22,
   "id": "3f6d4541",
   "metadata": {},
   "outputs": [],
   "source": [
    "# reduce shuffling at expense of parallelism\n",
    "spark.conf.set('spark.sql.shuffle.partitions', 4)\n",
    "\n",
    "\n",
    "# drop unneeded columns on load\n",
    "for _ in range(10):\n",
    "    answersDF_4 = spark.read.option('path', 'data/answers').load()\\\n",
    "        .select(['question_id', 'creation_date']).withColumn('month', month('creation_date'))\\\n",
    "        .repartition(4,'question_id', 'month')\n",
    "    questionsDF_4 = spark.read.option('path', 'data/questions').load()\\\n",
    "        .select(['question_id', 'title'])\n",
    "\n",
    "    q_and_a_joined_4 = answersDF_4.join(questionsDF_4, 'question_id')\\\n",
    "    .select(answersDF_4.question_id, answersDF_4.creation_date, questionsDF_4.title, answersDF_4.month)\n",
    "\n",
    "    resultDF_4 = q_and_a_joined_4\\\n",
    "    .groupBy('question_id', 'month')\\\n",
    "    .agg(count('*').alias('cnt'),\n",
    "        F.max(col('title')).alias('title'),\n",
    "        F.max(col('creation_date')).alias('creation_date'))\\\n",
    "    .orderBy('question_id', 'month')\\\n",
    "    .select('question_id', 'creation_date', 'title', 'month', 'cnt')\n",
    "\n",
    "    out_4 = resultDF_4.collect()"
   ]
  }
 ],
 "metadata": {
  "kernelspec": {
   "display_name": "Python 3 (ipykernel)",
   "language": "python",
   "name": "python3"
  },
  "language_info": {
   "codemirror_mode": {
    "name": "ipython",
    "version": 3
   },
   "file_extension": ".py",
   "mimetype": "text/x-python",
   "name": "python",
   "nbconvert_exporter": "python",
   "pygments_lexer": "ipython3",
   "version": "3.8.10"
  }
 },
 "nbformat": 4,
 "nbformat_minor": 5
}
